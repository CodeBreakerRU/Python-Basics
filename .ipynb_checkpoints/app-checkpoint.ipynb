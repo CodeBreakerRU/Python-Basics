{
 "cells": [
  {
   "cell_type": "code",
   "execution_count": 1,
   "metadata": {},
   "outputs": [],
   "source": [
    "price = 10"
   ]
  },
  {
   "cell_type": "code",
   "execution_count": 2,
   "metadata": {},
   "outputs": [
    {
     "name": "stdout",
     "output_type": "stream",
     "text": [
      "10\n"
     ]
    }
   ],
   "source": [
    "print(price)"
   ]
  },
  {
   "cell_type": "code",
   "execution_count": 3,
   "metadata": {},
   "outputs": [
    {
     "name": "stdout",
     "output_type": "stream",
     "text": [
      "20\n"
     ]
    }
   ],
   "source": [
    "price = 20\n",
    "print(price)"
   ]
  },
  {
   "cell_type": "code",
   "execution_count": 4,
   "metadata": {},
   "outputs": [],
   "source": [
    "rating = 4.9\n",
    "name = 'Mosh'"
   ]
  },
  {
   "cell_type": "code",
   "execution_count": 5,
   "metadata": {},
   "outputs": [],
   "source": [
    "is_published = False"
   ]
  },
  {
   "cell_type": "code",
   "execution_count": 6,
   "metadata": {},
   "outputs": [],
   "source": [
    "name = 'John Smith'\n",
    "age = 20\n",
    "is_new = True"
   ]
  },
  {
   "cell_type": "code",
   "execution_count": 7,
   "metadata": {},
   "outputs": [
    {
     "name": "stdout",
     "output_type": "stream",
     "text": [
      "what is your name ? Mosh\n",
      "Hi Mosh\n"
     ]
    }
   ],
   "source": [
    "name = input('what is your name ? ')\n",
    "print ('Hi '+name)"
   ]
  },
  {
   "cell_type": "code",
   "execution_count": 18,
   "metadata": {},
   "outputs": [
    {
     "name": "stdout",
     "output_type": "stream",
     "text": [
      "Enter your name : oneillk2\n",
      "Enter your fav color : red\n",
      "oneillk2 likes red\n"
     ]
    }
   ],
   "source": [
    "name = input('Enter your name : ')\n",
    "color = input('Enter your fav color : ')\n",
    "print(name + \" likes \" +color)"
   ]
  },
  {
   "cell_type": "code",
   "execution_count": 21,
   "metadata": {},
   "outputs": [
    {
     "name": "stdout",
     "output_type": "stream",
     "text": [
      "Birth year : 1996\n",
      "23\n"
     ]
    }
   ],
   "source": [
    "birth_year = input('Birth year : ')\n",
    "age = 2019 - int(birth_year)\n",
    "print(age)"
   ]
  },
  {
   "cell_type": "code",
   "execution_count": 15,
   "metadata": {},
   "outputs": [
    {
     "name": "stdout",
     "output_type": "stream",
     "text": [
      "Birth year : 1996\n",
      "<class 'str'>\n",
      "<class 'int'>\n",
      "23\n"
     ]
    }
   ],
   "source": [
    "birth_year = input('Birth year : ')\n",
    "print(type(birth_year))\n",
    "age = 2019 - int(birth_year)\n",
    "print(type(age))\n",
    "print(age)"
   ]
  },
  {
   "cell_type": "code",
   "execution_count": 24,
   "metadata": {},
   "outputs": [
    {
     "name": "stdout",
     "output_type": "stream",
     "text": [
      "Enter weight in lbs : 123\n",
      "55.35\n"
     ]
    }
   ],
   "source": [
    "weight_lbs  = input(\"Enter weight in lbs : \")\n",
    "weight_kg = int(weight_lbs) * 0.45\n",
    "print (weight_kg)"
   ]
  },
  {
   "cell_type": "code",
   "execution_count": 18,
   "metadata": {},
   "outputs": [
    {
     "name": "stdout",
     "output_type": "stream",
     "text": [
      "Python for \"beginners\"\n"
     ]
    }
   ],
   "source": [
    "course = 'Python for \"beginners\"'\n",
    "print(course)"
   ]
  },
  {
   "cell_type": "code",
   "execution_count": 20,
   "metadata": {},
   "outputs": [
    {
     "name": "stdout",
     "output_type": "stream",
     "text": [
      " \n",
      "Hi john,\n",
      "\n",
      "Here is our first email to you.\n",
      "\n",
      "Thank you\n",
      "\n"
     ]
    }
   ],
   "source": [
    "course = ''' \n",
    "Hi john,\n",
    "\n",
    "Here is our first email to you.\n",
    "\n",
    "Thank you\n",
    "'''\n",
    "print(course)"
   ]
  },
  {
   "cell_type": "code",
   "execution_count": 25,
   "metadata": {},
   "outputs": [
    {
     "name": "stdout",
     "output_type": "stream",
     "text": [
      "P\n",
      "y\n",
      "t\n",
      "s\n",
      "r\n"
     ]
    }
   ],
   "source": [
    "course = 'Python for beginners'\n",
    "print(course[0])\n",
    "print(course[1])\n",
    "print(course[2])"
   ]
  },
  {
   "cell_type": "code",
   "execution_count": 26,
   "metadata": {},
   "outputs": [
    {
     "name": "stdout",
     "output_type": "stream",
     "text": [
      "s\n",
      "r\n"
     ]
    }
   ],
   "source": [
    "print(course[-1])\n",
    "print(course[-2])"
   ]
  },
  {
   "cell_type": "code",
   "execution_count": 27,
   "metadata": {},
   "outputs": [
    {
     "name": "stdout",
     "output_type": "stream",
     "text": [
      "Pyth\n"
     ]
    }
   ],
   "source": [
    "print (course[0:4])"
   ]
  },
  {
   "cell_type": "code",
   "execution_count": 28,
   "metadata": {},
   "outputs": [
    {
     "name": "stdout",
     "output_type": "stream",
     "text": [
      "ython for beginners\n"
     ]
    }
   ],
   "source": [
    "print (course[1:])"
   ]
  },
  {
   "cell_type": "code",
   "execution_count": 30,
   "metadata": {},
   "outputs": [
    {
     "name": "stdout",
     "output_type": "stream",
     "text": [
      "Pytho\n"
     ]
    }
   ],
   "source": [
    "print(course[:5])"
   ]
  },
  {
   "cell_type": "code",
   "execution_count": 31,
   "metadata": {},
   "outputs": [],
   "source": [
    "another = course[:]"
   ]
  },
  {
   "cell_type": "code",
   "execution_count": 32,
   "metadata": {},
   "outputs": [
    {
     "name": "stdout",
     "output_type": "stream",
     "text": [
      "Python for beginners\n"
     ]
    }
   ],
   "source": [
    "print(another)"
   ]
  },
  {
   "cell_type": "code",
   "execution_count": 35,
   "metadata": {},
   "outputs": [
    {
     "name": "stdout",
     "output_type": "stream",
     "text": [
      "ennife\n"
     ]
    }
   ],
   "source": [
    "name= 'Jennifer'\n",
    "print(name [1:-1])"
   ]
  },
  {
   "cell_type": "code",
   "execution_count": 45,
   "metadata": {},
   "outputs": [
    {
     "name": "stdout",
     "output_type": "stream",
     "text": [
      "John [Smith] is a coder\n"
     ]
    }
   ],
   "source": [
    "first = 'John'\n",
    "last = 'Smith'\n",
    "message =   first + ' [' + last + '] is a coder'\n",
    "msg = f'{first} [{last}] is a coder' # formatted String\n",
    "print(msg)"
   ]
  },
  {
   "cell_type": "code",
   "execution_count": 3,
   "metadata": {},
   "outputs": [
    {
     "name": "stdout",
     "output_type": "stream",
     "text": [
      "John Smith is a coder\n"
     ]
    }
   ],
   "source": [
    "first = 'John'\n",
    "last = 'Smith'\n",
    "msg = f'{first} {last} is a coder' # formatted String\n",
    "print(msg)"
   ]
  },
  {
   "cell_type": "code",
   "execution_count": 4,
   "metadata": {},
   "outputs": [
    {
     "name": "stdout",
     "output_type": "stream",
     "text": [
      "20\n"
     ]
    }
   ],
   "source": [
    "course = 'Python for Beginners'\n",
    "print(len(course))"
   ]
  },
  {
   "cell_type": "code",
   "execution_count": 2,
   "metadata": {},
   "outputs": [
    {
     "name": "stdout",
     "output_type": "stream",
     "text": [
      "HELLO WORLD \n"
     ]
    }
   ],
   "source": [
    "H1 = 'Hello world '\n",
    "H1.upper()\n",
    "print (H1.upper())\n"
   ]
  },
  {
   "cell_type": "code",
   "execution_count": 9,
   "metadata": {},
   "outputs": [
    {
     "name": "stdout",
     "output_type": "stream",
     "text": [
      "hello world \n"
     ]
    }
   ],
   "source": [
    "H1 = 'Hello world '\n",
    "H1.lower()\n",
    "print (H1.lower())"
   ]
  },
  {
   "cell_type": "code",
   "execution_count": 15,
   "metadata": {},
   "outputs": [
    {
     "name": "stdout",
     "output_type": "stream",
     "text": [
      "0\n"
     ]
    }
   ],
   "source": [
    "print(H1.find('H'))"
   ]
  },
  {
   "cell_type": "code",
   "execution_count": 16,
   "metadata": {},
   "outputs": [
    {
     "name": "stdout",
     "output_type": "stream",
     "text": [
      "6\n"
     ]
    }
   ],
   "source": [
    "print(H1.find('world'))\n",
    "#starting from 6"
   ]
  },
  {
   "cell_type": "code",
   "execution_count": 17,
   "metadata": {},
   "outputs": [
    {
     "name": "stdout",
     "output_type": "stream",
     "text": [
      "Hello oneillk2 \n"
     ]
    }
   ],
   "source": [
    "print(H1.replace('world', 'oneillk2'))"
   ]
  },
  {
   "cell_type": "code",
   "execution_count": 4,
   "metadata": {},
   "outputs": [
    {
     "data": {
      "text/plain": [
       "'Hello World !!'"
      ]
     },
     "execution_count": 4,
     "metadata": {},
     "output_type": "execute_result"
    }
   ],
   "source": [
    "H1= 'Hello World !!'\n",
    "H1.title()"
   ]
  },
  {
   "cell_type": "code",
   "execution_count": 9,
   "metadata": {},
   "outputs": [
    {
     "data": {
      "text/plain": [
       "1"
      ]
     },
     "execution_count": 9,
     "metadata": {},
     "output_type": "execute_result"
    }
   ],
   "source": [
    "H1.find('e') # find index of the character"
   ]
  },
  {
   "cell_type": "code",
   "execution_count": 17,
   "metadata": {},
   "outputs": [
    {
     "name": "stdout",
     "output_type": "stream",
     "text": [
      "12\n",
      "7\n",
      "4\n",
      "3.3333333333333335\n",
      "3\n",
      "1\n",
      "1000\n"
     ]
    }
   ],
   "source": [
    "print (10 + 2)\n",
    "print (9 - 2)\n",
    "print (2 * 2)\n",
    "print (10 / 3)\n",
    "print (10 // 3)\n",
    "print (10 % 3) \n",
    "print (10 ** 3)"
   ]
  },
  {
   "cell_type": "code",
   "execution_count": 23,
   "metadata": {},
   "outputs": [
    {
     "name": "stdout",
     "output_type": "stream",
     "text": [
      "13\n",
      "13\n",
      "7\n"
     ]
    }
   ],
   "source": [
    "x = 10\n",
    "x = x + 3\n",
    "print (x)\n",
    "\n",
    "y = 10\n",
    "y += 3 # Augmented assigment operator\n",
    "print (y)\n",
    "\n",
    "z = 10\n",
    "z -= 3\n",
    "print (z)"
   ]
  },
  {
   "cell_type": "code",
   "execution_count": 25,
   "metadata": {},
   "outputs": [
    {
     "name": "stdout",
     "output_type": "stream",
     "text": [
      "16\n"
     ]
    }
   ],
   "source": [
    "a = 10 + 3 * 2\n",
    "print (a)"
   ]
  },
  {
   "cell_type": "code",
   "execution_count": 26,
   "metadata": {},
   "outputs": [
    {
     "name": "stdout",
     "output_type": "stream",
     "text": [
      "22\n"
     ]
    }
   ],
   "source": [
    "a = 10 + 3 * 2 ** 2\n",
    "print (a)"
   ]
  },
  {
   "cell_type": "code",
   "execution_count": 27,
   "metadata": {},
   "outputs": [
    {
     "name": "stdout",
     "output_type": "stream",
     "text": [
      "52\n"
     ]
    }
   ],
   "source": [
    "a = (10 + 3)* 2 ** 2\n",
    "print (a)"
   ]
  },
  {
   "cell_type": "code",
   "execution_count": 28,
   "metadata": {},
   "outputs": [
    {
     "name": "stdout",
     "output_type": "stream",
     "text": [
      "47\n"
     ]
    }
   ],
   "source": [
    "x = (2 + 3) * 10 -3\n",
    "print (x)"
   ]
  },
  {
   "cell_type": "code",
   "execution_count": null,
   "metadata": {},
   "outputs": [],
   "source": [
    "# Functions "
   ]
  },
  {
   "cell_type": "code",
   "execution_count": 5,
   "metadata": {},
   "outputs": [
    {
     "name": "stdout",
     "output_type": "stream",
     "text": [
      "3\n",
      "1\n",
      "2\n"
     ]
    }
   ],
   "source": [
    "x = 2.9\n",
    "print(round (x))\n",
    "\n",
    "a = 1.3\n",
    "print (round(a))\n",
    "\n",
    "b = 1.6\n",
    "print (round (b))"
   ]
  },
  {
   "cell_type": "code",
   "execution_count": 6,
   "metadata": {},
   "outputs": [],
   "source": [
    "# abs() return the absolute value of a number"
   ]
  },
  {
   "cell_type": "code",
   "execution_count": 7,
   "metadata": {},
   "outputs": [
    {
     "name": "stdout",
     "output_type": "stream",
     "text": [
      "2.9\n"
     ]
    }
   ],
   "source": [
    "print (abs(-2.9))"
   ]
  },
  {
   "cell_type": "code",
   "execution_count": 8,
   "metadata": {},
   "outputs": [
    {
     "name": "stdout",
     "output_type": "stream",
     "text": [
      "1.4\n"
     ]
    }
   ],
   "source": [
    "print (abs(-1.4))"
   ]
  },
  {
   "cell_type": "code",
   "execution_count": 20,
   "metadata": {},
   "outputs": [],
   "source": [
    "import math\n",
    "# https://docs.python.org/3/library/math.html"
   ]
  },
  {
   "cell_type": "code",
   "execution_count": 17,
   "metadata": {},
   "outputs": [
    {
     "name": "stdout",
     "output_type": "stream",
     "text": [
      "3\n"
     ]
    }
   ],
   "source": [
    "print (math.ceil(2.9)) \n",
    "# Return the smallest integer greater than or equal to x"
   ]
  },
  {
   "cell_type": "code",
   "execution_count": 18,
   "metadata": {},
   "outputs": [
    {
     "name": "stdout",
     "output_type": "stream",
     "text": [
      "2\n"
     ]
    }
   ],
   "source": [
    "print (math.floor(2.9)) \n",
    "# Return the largest integer less than or equal to x."
   ]
  },
  {
   "cell_type": "markdown",
   "metadata": {},
   "source": [
    "# if statements"
   ]
  },
  {
   "cell_type": "code",
   "execution_count": null,
   "metadata": {},
   "outputs": [],
   "source": [
    "# if it's hot\n",
    "#    It's a hot day\n",
    "#    Drink plenty of water\n",
    "# otherwise if it's cold\n",
    "#    It's a cold day\n",
    "#    Wear warm clothes\n",
    "# otherwise\n",
    "#    It's a lovely day"
   ]
  },
  {
   "cell_type": "code",
   "execution_count": 38,
   "metadata": {},
   "outputs": [
    {
     "name": "stdout",
     "output_type": "stream",
     "text": [
      "It's a lovely day\n",
      "Enjoy your day !!\n"
     ]
    }
   ],
   "source": [
    "is_hot = False\n",
    "is_cold = False\n",
    "\n",
    "if is_hot:\n",
    "    print (\"It's a hot day Drink plenty of water\")\n",
    "\n",
    "elif is_cold:\n",
    "    print (\" It's a cold day Wear warm clothes\")\n",
    "    \n",
    "else :\n",
    "    print (\"It's a lovely day\")\n",
    "    \n",
    "print (\"Enjoy your day !!\")"
   ]
  },
  {
   "cell_type": "code",
   "execution_count": 49,
   "metadata": {},
   "outputs": [
    {
     "name": "stdout",
     "output_type": "stream",
     "text": [
      "It's a Work day \n"
     ]
    }
   ],
   "source": [
    "is_weekday = True\n",
    "is_weekend = False\n",
    "\n",
    "if is_weekday:\n",
    "    print (\"It's a Work day \")\n",
    "    \n",
    "elif is_weekend:\n",
    "    print (\"It's a holiday\")"
   ]
  },
  {
   "cell_type": "code",
   "execution_count": 68,
   "metadata": {},
   "outputs": [
    {
     "name": "stdout",
     "output_type": "stream",
     "text": [
      "Down payment 20% $ 200000.0\n"
     ]
    }
   ],
   "source": [
    "has_goodcredit = False\n",
    "price = 1000000;\n",
    "\n",
    "if has_goodcredit:   \n",
    "    downpay = (price * 10) / 100\n",
    "    print (\"Down payment 10% : $\",downpay)\n",
    "else:\n",
    "    downpay = (price * 20) / 100\n",
    "    print(\"Down payment 20% $\",downpay)"
   ]
  },
  {
   "cell_type": "markdown",
   "metadata": {},
   "source": [
    "# Logical Operators"
   ]
  },
  {
   "cell_type": "code",
   "execution_count": 78,
   "metadata": {},
   "outputs": [
    {
     "name": "stdout",
     "output_type": "stream",
     "text": [
      "Eligible for loan\n"
     ]
    }
   ],
   "source": [
    "has_high_income = True\n",
    "has_good_credit = True\n",
    "\n",
    "if has_high_income and has_good_credit:\n",
    "    print (\"Eligible for loan\")\n",
    "    \n",
    "    # AND"
   ]
  },
  {
   "cell_type": "code",
   "execution_count": 79,
   "metadata": {},
   "outputs": [
    {
     "name": "stdout",
     "output_type": "stream",
     "text": [
      "Eligible for loan\n"
     ]
    }
   ],
   "source": [
    "has_high_income = True\n",
    "has_good_credit = False\n",
    "\n",
    "if has_high_income or has_good_credit:\n",
    "    print (\"Eligible for loan\")\n",
    "\n",
    "    # OR "
   ]
  },
  {
   "cell_type": "code",
   "execution_count": 21,
   "metadata": {},
   "outputs": [
    {
     "name": "stdout",
     "output_type": "stream",
     "text": [
      "temp : 100\n",
      "It's a hot day !!\n"
     ]
    }
   ],
   "source": [
    "temp = int(input(\"temp : \"))\n",
    "if temp > 30:\n",
    "    print (\"It's a hot day !!\")\n",
    "else:\n",
    "    print (\"It's not a hot day !!\")"
   ]
  },
  {
   "cell_type": "code",
   "execution_count": 22,
   "metadata": {},
   "outputs": [
    {
     "name": "stdout",
     "output_type": "stream",
     "text": [
      "Name : ab\n",
      " Name Must Be at least 3 characters \n"
     ]
    }
   ],
   "source": [
    "name = input(\"Name : \")\n",
    "\n",
    "if len(name) < 3:\n",
    "    print (\" Name Must Be at least 3 characters \")\n",
    "elif len(name) > 50:\n",
    "    print (\" Name can be maximum 50 characters \")\n",
    "else:\n",
    "    print (\"Name Looks good \")\n",
    " "
   ]
  },
  {
   "cell_type": "code",
   "execution_count": 40,
   "metadata": {},
   "outputs": [
    {
     "name": "stdout",
     "output_type": "stream",
     "text": [
      "Weight : 100\n",
      "(L)bs or (K)g : K\n",
      "You are 222.22222222222223 Pounds\n"
     ]
    }
   ],
   "source": [
    "weight = int(input('Weight : '))\n",
    "unit = input('(L)bs or (K)g : ')\n",
    "\n",
    "if unit.upper() == \"L\":\n",
    "    converted = weight * 0.45\n",
    "    print (f\"You are {converted} killos\")\n",
    "    \n",
    "else:\n",
    "    converted = weight / 0.45\n",
    "    print (f\"You are {converted} Pounds\")\n"
   ]
  },
  {
   "cell_type": "code",
   "execution_count": null,
   "metadata": {},
   "outputs": [],
   "source": []
  },
  {
   "cell_type": "code",
   "execution_count": null,
   "metadata": {},
   "outputs": [],
   "source": []
  }
 ],
 "metadata": {
  "kernelspec": {
   "display_name": "Python 3",
   "language": "python",
   "name": "python3"
  }
 },
 "nbformat": 4,
 "nbformat_minor": 2
}
